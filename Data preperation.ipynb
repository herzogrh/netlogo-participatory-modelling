{
 "cells": [
  {
   "cell_type": "code",
   "execution_count": 1,
   "metadata": {},
   "outputs": [],
   "source": [
    "import pandas as pd, geopandas as gpd, numpy as np"
   ]
  },
  {
   "cell_type": "code",
   "execution_count": 9,
   "metadata": {},
   "outputs": [],
   "source": [
    "# Load data from geojson file\n",
    "unsaniert = gpd.read_file('data/nw_abs_geb_unsaniert.json')\n",
    "saniert = gpd.read_file('data/nw_abs_geb_saniert.json')\n"
   ]
  },
  {
   "cell_type": "code",
   "execution_count": 92,
   "metadata": {},
   "outputs": [],
   "source": [
    "unsaniert_spez = gpd.read_file('data/nw_spez_geb_unsaniert.json')\n",
    "saniert_spez = gpd.read_file('data/nw_spez_geb_saniert.json')"
   ]
  },
  {
   "cell_type": "code",
   "execution_count": 3,
   "metadata": {},
   "outputs": [],
   "source": [
    "stadtteile = gpd.read_file('data/stadtteile.json')"
   ]
  },
  {
   "cell_type": "code",
   "execution_count": 17,
   "metadata": {},
   "outputs": [],
   "source": [
    "strassen = gpd.read_file('data/strassen.json')"
   ]
  },
  {
   "cell_type": "code",
   "execution_count": 4,
   "metadata": {},
   "outputs": [],
   "source": [
    "# Select Stadtteil named Rothenburgsort\n",
    "rothenburgsort = stadtteile[stadtteile['stadtteil_name'] == 'Rothenburgsort']"
   ]
  },
  {
   "cell_type": "code",
   "execution_count": 5,
   "metadata": {},
   "outputs": [
    {
     "data": {
      "text/html": [
       "<div>\n",
       "<style scoped>\n",
       "    .dataframe tbody tr th:only-of-type {\n",
       "        vertical-align: middle;\n",
       "    }\n",
       "\n",
       "    .dataframe tbody tr th {\n",
       "        vertical-align: top;\n",
       "    }\n",
       "\n",
       "    .dataframe thead th {\n",
       "        text-align: right;\n",
       "    }\n",
       "</style>\n",
       "<table border=\"1\" class=\"dataframe\">\n",
       "  <thead>\n",
       "    <tr style=\"text-align: right;\">\n",
       "      <th></th>\n",
       "      <th>id</th>\n",
       "      <th>bezirk</th>\n",
       "      <th>bezirk_name</th>\n",
       "      <th>stadtteil_name</th>\n",
       "      <th>stadtteil_schluessel</th>\n",
       "      <th>stadtteil_nummer</th>\n",
       "      <th>geometry</th>\n",
       "    </tr>\n",
       "  </thead>\n",
       "  <tbody>\n",
       "    <tr>\n",
       "      <th>11</th>\n",
       "      <td>APP_STADTTEILE_12</td>\n",
       "      <td>1</td>\n",
       "      <td>Hamburg-Mitte</td>\n",
       "      <td>Rothenburgsort</td>\n",
       "      <td>02114</td>\n",
       "      <td>114</td>\n",
       "      <td>MULTIPOLYGON (((10.03796 53.52799, 10.03783 53...</td>\n",
       "    </tr>\n",
       "  </tbody>\n",
       "</table>\n",
       "</div>"
      ],
      "text/plain": [
       "                   id bezirk    bezirk_name  stadtteil_name  \\\n",
       "11  APP_STADTTEILE_12      1  Hamburg-Mitte  Rothenburgsort   \n",
       "\n",
       "   stadtteil_schluessel stadtteil_nummer  \\\n",
       "11                02114              114   \n",
       "\n",
       "                                             geometry  \n",
       "11  MULTIPOLYGON (((10.03796 53.52799, 10.03783 53...  "
      ]
     },
     "execution_count": 5,
     "metadata": {},
     "output_type": "execute_result"
    }
   ],
   "source": [
    "rothenburgsort"
   ]
  },
  {
   "cell_type": "code",
   "execution_count": 6,
   "metadata": {},
   "outputs": [
    {
     "data": {
      "text/plain": [
       "<AxesSubplot: >"
      ]
     },
     "execution_count": 6,
     "metadata": {},
     "output_type": "execute_result"
    },
    {
     "data": {
      "image/png": "[encoded data removed]",
      "text/plain": [
       "<Figure size 432x288 with 1 Axes>"
      ]
     },
     "metadata": {
      "needs_background": "light"
     },
     "output_type": "display_data"
    }
   ],
   "source": [
    "rothenburgsort.plot()"
   ]
  },
  {
   "cell_type": "code",
   "execution_count": 7,
   "metadata": {},
   "outputs": [],
   "source": [
    "# Save Rothenburgsort as geojson file\n",
    "rothenburgsort.to_file('data/rothenburgsort.json', driver='GeoJSON')"
   ]
  },
  {
   "cell_type": "code",
   "execution_count": 8,
   "metadata": {},
   "outputs": [],
   "source": [
    "# Load Rothenburgsort from geojson file\n",
    "rothenburgsort = gpd.read_file('data/rothenburgsort.json')"
   ]
  },
  {
   "cell_type": "code",
   "execution_count": 22,
   "metadata": {},
   "outputs": [
    {
     "name": "stderr",
     "output_type": "stream",
     "text": [
      "/Users/hsadmin/.conda/envs/geo-env/lib/python3.11/site-packages/IPython/core/interactiveshell.py:3382: FutureWarning: The `op` parameter is deprecated and will be removed in a future release. Please use the `predicate` parameter instead.\n",
      "  if await self.run_code(code, result, async_=asy):\n",
      "/Users/hsadmin/.conda/envs/geo-env/lib/python3.11/site-packages/IPython/core/interactiveshell.py:3382: FutureWarning: The `op` parameter is deprecated and will be removed in a future release. Please use the `predicate` parameter instead.\n",
      "  if await self.run_code(code, result, async_=asy):\n"
     ]
    }
   ],
   "source": [
    "unsaniert_rothenburgsort = gpd.sjoin(unsaniert, rothenburgsort, how='inner', op='intersects')\n",
    "saniert_rothenburgsort = gpd.sjoin(saniert, rothenburgsort, how='inner', op='intersects')"
   ]
  },
  {
   "cell_type": "code",
   "execution_count": 93,
   "metadata": {},
   "outputs": [
    {
     "name": "stderr",
     "output_type": "stream",
     "text": [
      "/Users/hsadmin/.conda/envs/geo-env/lib/python3.11/site-packages/IPython/core/interactiveshell.py:3382: FutureWarning: The `op` parameter is deprecated and will be removed in a future release. Please use the `predicate` parameter instead.\n",
      "  if await self.run_code(code, result, async_=asy):\n",
      "/Users/hsadmin/.conda/envs/geo-env/lib/python3.11/site-packages/IPython/core/interactiveshell.py:3382: FutureWarning: The `op` parameter is deprecated and will be removed in a future release. Please use the `predicate` parameter instead.\n",
      "  if await self.run_code(code, result, async_=asy):\n"
     ]
    }
   ],
   "source": [
    "unsaniert_rothenburgsort_spez = gpd.sjoin(unsaniert_spez, rothenburgsort, how='inner', op='intersects')\n",
    "saniert_rothenburgsort_spez = gpd.sjoin(saniert_spez, rothenburgsort, how='inner', op='intersects')"
   ]
  },
  {
   "cell_type": "code",
   "execution_count": 23,
   "metadata": {},
   "outputs": [],
   "source": [
    "# Set ESPG projection\n",
    "unsaniert_rothenburgsort = unsaniert_rothenburgsort.to_crs(epsg=25832)\n",
    "saniert_rothenburgsort = saniert_rothenburgsort.to_crs(epsg=25832)"
   ]
  },
  {
   "cell_type": "code",
   "execution_count": 24,
   "metadata": {},
   "outputs": [],
   "source": [
    "# Convert to WGS84\n",
    "unsaniert_rothenburgsort = unsaniert_rothenburgsort.to_crs(epsg=4326)\n",
    "saniert_rothenburgsort = saniert_rothenburgsort.to_crs(epsg=4326)"
   ]
  },
  {
   "cell_type": "code",
   "execution_count": 25,
   "metadata": {},
   "outputs": [],
   "source": [
    "# Save Rothenburgsort as geojson file\n",
    "unsaniert_rothenburgsort.to_file('data/unsaniert_rothenburgsort.json', driver='GeoJSON')\n",
    "saniert_rothenburgsort.to_file('data/saniert_rothenburgsort.json', driver='GeoJSON')"
   ]
  },
  {
   "cell_type": "code",
   "execution_count": 94,
   "metadata": {},
   "outputs": [],
   "source": [
    "# Save Rothenburgsort_spez as geojson file\n",
    "unsaniert_rothenburgsort_spez.to_file('data/unsaniert_rothenburgsort_spez.json', driver='GeoJSON')\n",
    "saniert_rothenburgsort_spez.to_file('data/saniert_rothenburgsort_spez.json', driver='GeoJSON')\n"
   ]
  },
  {
   "cell_type": "code",
   "execution_count": 26,
   "metadata": {},
   "outputs": [],
   "source": [
    "# Load Rothenburgsort from geojson file\n",
    "unsaniert_rothenburgsort = gpd.read_file('data/unsaniert_rothenburgsort.json')\n",
    "saniert_rothenburgsort = gpd.read_file('data/saniert_rothenburgsort.json')"
   ]
  },
  {
   "cell_type": "code",
   "execution_count": 27,
   "metadata": {},
   "outputs": [
    {
     "data": {
      "text/html": [
       "<div>\n",
       "<style scoped>\n",
       "    .dataframe tbody tr th:only-of-type {\n",
       "        vertical-align: middle;\n",
       "    }\n",
       "\n",
       "    .dataframe tbody tr th {\n",
       "        vertical-align: top;\n",
       "    }\n",
       "\n",
       "    .dataframe thead th {\n",
       "        text-align: right;\n",
       "    }\n",
       "</style>\n",
       "<table border=\"1\" class=\"dataframe\">\n",
       "  <thead>\n",
       "    <tr style=\"text-align: right;\">\n",
       "      <th></th>\n",
       "      <th>id_left</th>\n",
       "      <th>anzahl_einheiten</th>\n",
       "      <th>beheizte_nutzflaeche</th>\n",
       "      <th>beheizte_wohnflaeche</th>\n",
       "      <th>waermebedarf_saniert</th>\n",
       "      <th>index_right</th>\n",
       "      <th>id_right</th>\n",
       "      <th>bezirk</th>\n",
       "      <th>bezirk_name</th>\n",
       "      <th>stadtteil_name</th>\n",
       "      <th>stadtteil_schluessel</th>\n",
       "      <th>stadtteil_nummer</th>\n",
       "      <th>geometry</th>\n",
       "    </tr>\n",
       "  </thead>\n",
       "  <tbody>\n",
       "    <tr>\n",
       "      <th>0</th>\n",
       "      <td>DE.HH.UP_NW_ABS_GEB_SANIERT_1115797</td>\n",
       "      <td>6</td>\n",
       "      <td>1426</td>\n",
       "      <td>787</td>\n",
       "      <td>141363</td>\n",
       "      <td>0</td>\n",
       "      <td>APP_STADTTEILE_12</td>\n",
       "      <td>1</td>\n",
       "      <td>Hamburg-Mitte</td>\n",
       "      <td>Rothenburgsort</td>\n",
       "      <td>02114</td>\n",
       "      <td>114</td>\n",
       "      <td>POLYGON ((10.03983 53.53411, 10.03959 53.53413...</td>\n",
       "    </tr>\n",
       "    <tr>\n",
       "      <th>1</th>\n",
       "      <td>DE.HH.UP_NW_ABS_GEB_SANIERT_1115627</td>\n",
       "      <td>6</td>\n",
       "      <td>4808</td>\n",
       "      <td>203</td>\n",
       "      <td>181928</td>\n",
       "      <td>0</td>\n",
       "      <td>APP_STADTTEILE_12</td>\n",
       "      <td>1</td>\n",
       "      <td>Hamburg-Mitte</td>\n",
       "      <td>Rothenburgsort</td>\n",
       "      <td>02114</td>\n",
       "      <td>114</td>\n",
       "      <td>POLYGON ((10.04984 53.54136, 10.05009 53.54144...</td>\n",
       "    </tr>\n",
       "    <tr>\n",
       "      <th>2</th>\n",
       "      <td>DE.HH.UP_NW_ABS_GEB_SANIERT_1115752</td>\n",
       "      <td>9</td>\n",
       "      <td>4577</td>\n",
       "      <td>4577</td>\n",
       "      <td>455935</td>\n",
       "      <td>0</td>\n",
       "      <td>APP_STADTTEILE_12</td>\n",
       "      <td>1</td>\n",
       "      <td>Hamburg-Mitte</td>\n",
       "      <td>Rothenburgsort</td>\n",
       "      <td>02114</td>\n",
       "      <td>114</td>\n",
       "      <td>POLYGON ((10.04706 53.53328, 10.04748 53.53312...</td>\n",
       "    </tr>\n",
       "    <tr>\n",
       "      <th>3</th>\n",
       "      <td>DE.HH.UP_NW_ABS_GEB_SANIERT_1115753</td>\n",
       "      <td>7</td>\n",
       "      <td>3287</td>\n",
       "      <td>3287</td>\n",
       "      <td>214312</td>\n",
       "      <td>0</td>\n",
       "      <td>APP_STADTTEILE_12</td>\n",
       "      <td>1</td>\n",
       "      <td>Hamburg-Mitte</td>\n",
       "      <td>Rothenburgsort</td>\n",
       "      <td>02114</td>\n",
       "      <td>114</td>\n",
       "      <td>POLYGON ((10.04917 53.53221, 10.04924 53.53218...</td>\n",
       "    </tr>\n",
       "    <tr>\n",
       "      <th>4</th>\n",
       "      <td>DE.HH.UP_NW_ABS_GEB_SANIERT_1115754</td>\n",
       "      <td>10</td>\n",
       "      <td>15593</td>\n",
       "      <td>0</td>\n",
       "      <td>812256</td>\n",
       "      <td>0</td>\n",
       "      <td>APP_STADTTEILE_12</td>\n",
       "      <td>1</td>\n",
       "      <td>Hamburg-Mitte</td>\n",
       "      <td>Rothenburgsort</td>\n",
       "      <td>02114</td>\n",
       "      <td>114</td>\n",
       "      <td>POLYGON ((10.04450 53.52954, 10.04442 53.52954...</td>\n",
       "    </tr>\n",
       "    <tr>\n",
       "      <th>...</th>\n",
       "      <td>...</td>\n",
       "      <td>...</td>\n",
       "      <td>...</td>\n",
       "      <td>...</td>\n",
       "      <td>...</td>\n",
       "      <td>...</td>\n",
       "      <td>...</td>\n",
       "      <td>...</td>\n",
       "      <td>...</td>\n",
       "      <td>...</td>\n",
       "      <td>...</td>\n",
       "      <td>...</td>\n",
       "      <td>...</td>\n",
       "    </tr>\n",
       "    <tr>\n",
       "      <th>188</th>\n",
       "      <td>DE.HH.UP_NW_ABS_GEB_SANIERT_1115807</td>\n",
       "      <td>6</td>\n",
       "      <td>2547</td>\n",
       "      <td>2547</td>\n",
       "      <td>230249</td>\n",
       "      <td>0</td>\n",
       "      <td>APP_STADTTEILE_12</td>\n",
       "      <td>1</td>\n",
       "      <td>Hamburg-Mitte</td>\n",
       "      <td>Rothenburgsort</td>\n",
       "      <td>02114</td>\n",
       "      <td>114</td>\n",
       "      <td>POLYGON ((10.03578 53.53385, 10.03587 53.53392...</td>\n",
       "    </tr>\n",
       "    <tr>\n",
       "      <th>189</th>\n",
       "      <td>DE.HH.UP_NW_ABS_GEB_SANIERT_1115808</td>\n",
       "      <td>6</td>\n",
       "      <td>4322</td>\n",
       "      <td>4322</td>\n",
       "      <td>390709</td>\n",
       "      <td>0</td>\n",
       "      <td>APP_STADTTEILE_12</td>\n",
       "      <td>1</td>\n",
       "      <td>Hamburg-Mitte</td>\n",
       "      <td>Rothenburgsort</td>\n",
       "      <td>02114</td>\n",
       "      <td>114</td>\n",
       "      <td>POLYGON ((10.03766 53.53308, 10.03772 53.53313...</td>\n",
       "    </tr>\n",
       "    <tr>\n",
       "      <th>190</th>\n",
       "      <td>DE.HH.UP_NW_ABS_GEB_SANIERT_1115809</td>\n",
       "      <td>7</td>\n",
       "      <td>6978</td>\n",
       "      <td>6978</td>\n",
       "      <td>569884</td>\n",
       "      <td>0</td>\n",
       "      <td>APP_STADTTEILE_12</td>\n",
       "      <td>1</td>\n",
       "      <td>Hamburg-Mitte</td>\n",
       "      <td>Rothenburgsort</td>\n",
       "      <td>02114</td>\n",
       "      <td>114</td>\n",
       "      <td>POLYGON ((10.03377 53.53454, 10.03385 53.53451...</td>\n",
       "    </tr>\n",
       "    <tr>\n",
       "      <th>191</th>\n",
       "      <td>DE.HH.UP_NW_ABS_GEB_SANIERT_1115810</td>\n",
       "      <td>6</td>\n",
       "      <td>2988</td>\n",
       "      <td>2988</td>\n",
       "      <td>270116</td>\n",
       "      <td>0</td>\n",
       "      <td>APP_STADTTEILE_12</td>\n",
       "      <td>1</td>\n",
       "      <td>Hamburg-Mitte</td>\n",
       "      <td>Rothenburgsort</td>\n",
       "      <td>02114</td>\n",
       "      <td>114</td>\n",
       "      <td>POLYGON ((10.03517 53.53374, 10.03519 53.53376...</td>\n",
       "    </tr>\n",
       "    <tr>\n",
       "      <th>192</th>\n",
       "      <td>DE.HH.UP_NW_ABS_GEB_SANIERT_1115811</td>\n",
       "      <td>6</td>\n",
       "      <td>3141</td>\n",
       "      <td>3141</td>\n",
       "      <td>283947</td>\n",
       "      <td>0</td>\n",
       "      <td>APP_STADTTEILE_12</td>\n",
       "      <td>1</td>\n",
       "      <td>Hamburg-Mitte</td>\n",
       "      <td>Rothenburgsort</td>\n",
       "      <td>02114</td>\n",
       "      <td>114</td>\n",
       "      <td>POLYGON ((10.03332 53.53470, 10.03335 53.53472...</td>\n",
       "    </tr>\n",
       "  </tbody>\n",
       "</table>\n",
       "<p>193 rows × 13 columns</p>\n",
       "</div>"
      ],
      "text/plain": [
       "                                 id_left  anzahl_einheiten  \\\n",
       "0    DE.HH.UP_NW_ABS_GEB_SANIERT_1115797                 6   \n",
       "1    DE.HH.UP_NW_ABS_GEB_SANIERT_1115627                 6   \n",
       "2    DE.HH.UP_NW_ABS_GEB_SANIERT_1115752                 9   \n",
       "3    DE.HH.UP_NW_ABS_GEB_SANIERT_1115753                 7   \n",
       "4    DE.HH.UP_NW_ABS_GEB_SANIERT_1115754                10   \n",
       "..                                   ...               ...   \n",
       "188  DE.HH.UP_NW_ABS_GEB_SANIERT_1115807                 6   \n",
       "189  DE.HH.UP_NW_ABS_GEB_SANIERT_1115808                 6   \n",
       "190  DE.HH.UP_NW_ABS_GEB_SANIERT_1115809                 7   \n",
       "191  DE.HH.UP_NW_ABS_GEB_SANIERT_1115810                 6   \n",
       "192  DE.HH.UP_NW_ABS_GEB_SANIERT_1115811                 6   \n",
       "\n",
       "     beheizte_nutzflaeche  beheizte_wohnflaeche  waermebedarf_saniert  \\\n",
       "0                    1426                   787                141363   \n",
       "1                    4808                   203                181928   \n",
       "2                    4577                  4577                455935   \n",
       "3                    3287                  3287                214312   \n",
       "4                   15593                     0                812256   \n",
       "..                    ...                   ...                   ...   \n",
       "188                  2547                  2547                230249   \n",
       "189                  4322                  4322                390709   \n",
       "190                  6978                  6978                569884   \n",
       "191                  2988                  2988                270116   \n",
       "192                  3141                  3141                283947   \n",
       "\n",
       "     index_right           id_right bezirk    bezirk_name  stadtteil_name  \\\n",
       "0              0  APP_STADTTEILE_12      1  Hamburg-Mitte  Rothenburgsort   \n",
       "1              0  APP_STADTTEILE_12      1  Hamburg-Mitte  Rothenburgsort   \n",
       "2              0  APP_STADTTEILE_12      1  Hamburg-Mitte  Rothenburgsort   \n",
       "3              0  APP_STADTTEILE_12      1  Hamburg-Mitte  Rothenburgsort   \n",
       "4              0  APP_STADTTEILE_12      1  Hamburg-Mitte  Rothenburgsort   \n",
       "..           ...                ...    ...            ...             ...   \n",
       "188            0  APP_STADTTEILE_12      1  Hamburg-Mitte  Rothenburgsort   \n",
       "189            0  APP_STADTTEILE_12      1  Hamburg-Mitte  Rothenburgsort   \n",
       "190            0  APP_STADTTEILE_12      1  Hamburg-Mitte  Rothenburgsort   \n",
       "191            0  APP_STADTTEILE_12      1  Hamburg-Mitte  Rothenburgsort   \n",
       "192            0  APP_STADTTEILE_12      1  Hamburg-Mitte  Rothenburgsort   \n",
       "\n",
       "    stadtteil_schluessel stadtteil_nummer  \\\n",
       "0                  02114              114   \n",
       "1                  02114              114   \n",
       "2                  02114              114   \n",
       "3                  02114              114   \n",
       "4                  02114              114   \n",
       "..                   ...              ...   \n",
       "188                02114              114   \n",
       "189                02114              114   \n",
       "190                02114              114   \n",
       "191                02114              114   \n",
       "192                02114              114   \n",
       "\n",
       "                                              geometry  \n",
       "0    POLYGON ((10.03983 53.53411, 10.03959 53.53413...  \n",
       "1    POLYGON ((10.04984 53.54136, 10.05009 53.54144...  \n",
       "2    POLYGON ((10.04706 53.53328, 10.04748 53.53312...  \n",
       "3    POLYGON ((10.04917 53.53221, 10.04924 53.53218...  \n",
       "4    POLYGON ((10.04450 53.52954, 10.04442 53.52954...  \n",
       "..                                                 ...  \n",
       "188  POLYGON ((10.03578 53.53385, 10.03587 53.53392...  \n",
       "189  POLYGON ((10.03766 53.53308, 10.03772 53.53313...  \n",
       "190  POLYGON ((10.03377 53.53454, 10.03385 53.53451...  \n",
       "191  POLYGON ((10.03517 53.53374, 10.03519 53.53376...  \n",
       "192  POLYGON ((10.03332 53.53470, 10.03335 53.53472...  \n",
       "\n",
       "[193 rows x 13 columns]"
      ]
     },
     "execution_count": 27,
     "metadata": {},
     "output_type": "execute_result"
    }
   ],
   "source": [
    "saniert_rothenburgsort"
   ]
  },
  {
   "cell_type": "code",
   "execution_count": 30,
   "metadata": {},
   "outputs": [],
   "source": [
    "gebaeude = gpd.read_file('data/GebaeudeBauwerk.json')"
   ]
  },
  {
   "cell_type": "code",
   "execution_count": 31,
   "metadata": {},
   "outputs": [
    {
     "name": "stderr",
     "output_type": "stream",
     "text": [
      "/Users/hsadmin/.conda/envs/geo-env/lib/python3.11/site-packages/IPython/core/interactiveshell.py:3382: FutureWarning: The `op` parameter is deprecated and will be removed in a future release. Please use the `predicate` parameter instead.\n",
      "  if await self.run_code(code, result, async_=asy):\n"
     ]
    }
   ],
   "source": [
    "gebaude_rothenburgsort = gpd.sjoin(gebaeude, rothenburgsort, how='inner', op='intersects')"
   ]
  },
  {
   "cell_type": "code",
   "execution_count": 33,
   "metadata": {},
   "outputs": [],
   "source": [
    "# Save to geojson file\n",
    "gebaude_rothenburgsort.to_file('data/gebaude_rothenburgsort.json', driver='GeoJSON')"
   ]
  },
  {
   "cell_type": "code",
   "execution_count": 34,
   "metadata": {},
   "outputs": [
    {
     "data": {
      "text/plain": [
       "<AxesSubplot: >"
      ]
     },
     "execution_count": 34,
     "metadata": {},
     "output_type": "execute_result"
    },
    {
     "data": {
      "image/png": "[encoded data removed]",
      "text/plain": [
       "<Figure size 432x288 with 1 Axes>"
      ]
     },
     "metadata": {
      "needs_background": "light"
     },
     "output_type": "display_data"
    }
   ],
   "source": [
    "gebaude_rothenburgsort.plot()"
   ]
  },
  {
   "cell_type": "code",
   "execution_count": 39,
   "metadata": {},
   "outputs": [],
   "source": [
    "# Nur Gebaeude filtern\n",
    "gebaude_rothenburgsort = gebaude_rothenburgsort[gebaude_rothenburgsort['gebnutzbez'] == 'Gebaeude']"
   ]
  },
  {
   "cell_type": "code",
   "execution_count": 48,
   "metadata": {},
   "outputs": [
    {
     "data": {
      "text/plain": [
       "Wohnhaus                                            239\n",
       "Wohngebäude mit Handel und Dienstleistungen          28\n",
       "Gebäude für Handel und Dienstleistung mit Wohnen     11\n",
       "Wohngebäude mit Gewerbe und Industrie                 7\n",
       "Gebäude für Gewerbe und Industrie mit Wohnen          6\n",
       "Wohnheim                                              6\n",
       "Gemischt genutztes Gebäude mit Wohnen                 5\n",
       "Name: funktion, dtype: int64"
      ]
     },
     "execution_count": 48,
     "metadata": {},
     "output_type": "execute_result"
    }
   ],
   "source": [
    "\n",
    "gebaude_rothenburgsort.funktion.value_counts()"
   ]
  },
  {
   "cell_type": "code",
   "execution_count": 45,
   "metadata": {},
   "outputs": [],
   "source": [
    "# Gebäude, deren Funktion nicht Wohnen enthält, entfernen\n",
    "gebaude_rothenburgsort = gebaude_rothenburgsort[gebaude_rothenburgsort['funktion'].str.contains('Wohn')]\n"
   ]
  },
  {
   "cell_type": "code",
   "execution_count": 49,
   "metadata": {},
   "outputs": [],
   "source": [
    "# Speichern als Wohngebäude\n",
    "gebaude_rothenburgsort.to_file('data/wohngebaude_rothenburgsort.json', driver='GeoJSON')"
   ]
  },
  {
   "cell_type": "code",
   "execution_count": 50,
   "metadata": {},
   "outputs": [],
   "source": [
    "# Wohngebäude laden\n",
    "wohngebaude_rothenburgsort = gpd.read_file('data/wohngebaude_rothenburgsort.json')"
   ]
  },
  {
   "cell_type": "code",
   "execution_count": 51,
   "metadata": {},
   "outputs": [
    {
     "data": {
      "text/plain": [
       "<AxesSubplot: >"
      ]
     },
     "execution_count": 51,
     "metadata": {},
     "output_type": "execute_result"
    },
    {
     "data": {
      "image/png": "[encoded data removed]",
      "text/plain": [
       "<Figure size 432x288 with 1 Axes>"
      ]
     },
     "metadata": {
      "needs_background": "light"
     },
     "output_type": "display_data"
    }
   ],
   "source": [
    "wohngebaude_rothenburgsort.plot()"
   ]
  },
  {
   "cell_type": "code",
   "execution_count": 52,
   "metadata": {},
   "outputs": [
    {
     "data": {
      "text/plain": [
       "Index(['id_left', 'oid', 'aktualit', 'gebnutzbez', 'funktion', 'gfkzshh',\n",
       "       'rellage', 'name', 'anzahlgs', 'gmdschl', 'lagebeztxt', 'index_right',\n",
       "       'id_right', 'bezirk', 'bezirk_name', 'stadtteil_name',\n",
       "       'stadtteil_schluessel', 'stadtteil_nummer', 'geometry'],\n",
       "      dtype='object')"
      ]
     },
     "execution_count": 52,
     "metadata": {},
     "output_type": "execute_result"
    }
   ],
   "source": [
    "wohngebaude_rothenburgsort.columns"
   ]
  },
  {
   "cell_type": "code",
   "execution_count": 55,
   "metadata": {},
   "outputs": [],
   "source": [
    "wohngebaude_rothenburgsort = wohngebaude_rothenburgsort[['oid','anzahlgs', 'funktion', 'geometry']]"
   ]
  },
  {
   "cell_type": "code",
   "execution_count": 57,
   "metadata": {},
   "outputs": [],
   "source": [
    "# Speichern\n",
    "wohngebaude_rothenburgsort.to_file('data/wohngebaude_rothenburgsort.json', driver='GeoJSON')"
   ]
  },
  {
   "cell_type": "code",
   "execution_count": 110,
   "metadata": {},
   "outputs": [],
   "source": [
    "# Laden\n",
    "wohngebaude_rothenburgsort = gpd.read_file('data/wohngebaude_rothenburgsort.json')"
   ]
  },
  {
   "cell_type": "code",
   "execution_count": 111,
   "metadata": {},
   "outputs": [],
   "source": [
    "# Grundfläche berechnen\n",
    "\n",
    "wohngebaude_rothenburgsort['grundflache'] = wohngebaude_rothenburgsort['geometry'].to_crs(epsg=6933).area"
   ]
  },
  {
   "cell_type": "code",
   "execution_count": 112,
   "metadata": {},
   "outputs": [
    {
     "data": {
      "text/html": [
       "<div>\n",
       "<style scoped>\n",
       "    .dataframe tbody tr th:only-of-type {\n",
       "        vertical-align: middle;\n",
       "    }\n",
       "\n",
       "    .dataframe tbody tr th {\n",
       "        vertical-align: top;\n",
       "    }\n",
       "\n",
       "    .dataframe thead th {\n",
       "        text-align: right;\n",
       "    }\n",
       "</style>\n",
       "<table border=\"1\" class=\"dataframe\">\n",
       "  <thead>\n",
       "    <tr style=\"text-align: right;\">\n",
       "      <th></th>\n",
       "      <th>oid</th>\n",
       "      <th>anzahlgs</th>\n",
       "      <th>funktion</th>\n",
       "      <th>geometry</th>\n",
       "      <th>grundflache</th>\n",
       "    </tr>\n",
       "  </thead>\n",
       "  <tbody>\n",
       "    <tr>\n",
       "      <th>0</th>\n",
       "      <td>DEHHALKAJ0000xnfBL</td>\n",
       "      <td>1.0</td>\n",
       "      <td>Wohnhaus</td>\n",
       "      <td>MULTIPOLYGON (((10.06312 53.53584, 10.06301 53...</td>\n",
       "      <td>54.781575</td>\n",
       "    </tr>\n",
       "    <tr>\n",
       "      <th>1</th>\n",
       "      <td>DEHHALKAJ0000xhIBL</td>\n",
       "      <td>1.0</td>\n",
       "      <td>Wohnhaus</td>\n",
       "      <td>MULTIPOLYGON (((10.06502 53.53566, 10.06501 53...</td>\n",
       "      <td>84.620637</td>\n",
       "    </tr>\n",
       "    <tr>\n",
       "      <th>2</th>\n",
       "      <td>DEHHALKAJ0000xgsBL</td>\n",
       "      <td>1.0</td>\n",
       "      <td>Wohnhaus</td>\n",
       "      <td>MULTIPOLYGON (((10.06284 53.53575, 10.06273 53...</td>\n",
       "      <td>132.952185</td>\n",
       "    </tr>\n",
       "    <tr>\n",
       "      <th>3</th>\n",
       "      <td>DEHHALKAJ0000xizBL</td>\n",
       "      <td>1.0</td>\n",
       "      <td>Wohnhaus</td>\n",
       "      <td>MULTIPOLYGON (((10.06473 53.53482, 10.06473 53...</td>\n",
       "      <td>90.722587</td>\n",
       "    </tr>\n",
       "    <tr>\n",
       "      <th>4</th>\n",
       "      <td>DEHHALKAJ0000xhTBL</td>\n",
       "      <td>1.0</td>\n",
       "      <td>Wohnhaus</td>\n",
       "      <td>MULTIPOLYGON (((10.06335 53.53560, 10.06339 53...</td>\n",
       "      <td>90.082629</td>\n",
       "    </tr>\n",
       "    <tr>\n",
       "      <th>...</th>\n",
       "      <td>...</td>\n",
       "      <td>...</td>\n",
       "      <td>...</td>\n",
       "      <td>...</td>\n",
       "      <td>...</td>\n",
       "    </tr>\n",
       "    <tr>\n",
       "      <th>297</th>\n",
       "      <td>DEHHALKAJ00013M4BL</td>\n",
       "      <td>4.0</td>\n",
       "      <td>Wohnhaus</td>\n",
       "      <td>MULTIPOLYGON (((10.04608 53.53318, 10.04594 53...</td>\n",
       "      <td>385.360233</td>\n",
       "    </tr>\n",
       "    <tr>\n",
       "      <th>298</th>\n",
       "      <td>DEHHALKAJ00011bCBL</td>\n",
       "      <td>1.0</td>\n",
       "      <td>Wohnhaus</td>\n",
       "      <td>MULTIPOLYGON (((10.05893 53.54550, 10.05899 53...</td>\n",
       "      <td>86.175483</td>\n",
       "    </tr>\n",
       "    <tr>\n",
       "      <th>299</th>\n",
       "      <td>DEHHALKAJ000119bBL</td>\n",
       "      <td>4.0</td>\n",
       "      <td>Wohnhaus</td>\n",
       "      <td>MULTIPOLYGON (((10.04797 53.53245, 10.04784 53...</td>\n",
       "      <td>404.605389</td>\n",
       "    </tr>\n",
       "    <tr>\n",
       "      <th>300</th>\n",
       "      <td>DEHHALKAJ000138fBL</td>\n",
       "      <td>4.0</td>\n",
       "      <td>Wohnhaus</td>\n",
       "      <td>MULTIPOLYGON (((10.03585 53.53479, 10.03565 53...</td>\n",
       "      <td>537.871834</td>\n",
       "    </tr>\n",
       "    <tr>\n",
       "      <th>301</th>\n",
       "      <td>DEHHALKAJ00012tWBL</td>\n",
       "      <td>4.0</td>\n",
       "      <td>Wohnhaus</td>\n",
       "      <td>MULTIPOLYGON (((10.03745 53.53403, 10.03723 53...</td>\n",
       "      <td>527.934377</td>\n",
       "    </tr>\n",
       "  </tbody>\n",
       "</table>\n",
       "<p>302 rows × 5 columns</p>\n",
       "</div>"
      ],
      "text/plain": [
       "                    oid  anzahlgs  funktion  \\\n",
       "0    DEHHALKAJ0000xnfBL       1.0  Wohnhaus   \n",
       "1    DEHHALKAJ0000xhIBL       1.0  Wohnhaus   \n",
       "2    DEHHALKAJ0000xgsBL       1.0  Wohnhaus   \n",
       "3    DEHHALKAJ0000xizBL       1.0  Wohnhaus   \n",
       "4    DEHHALKAJ0000xhTBL       1.0  Wohnhaus   \n",
       "..                  ...       ...       ...   \n",
       "297  DEHHALKAJ00013M4BL       4.0  Wohnhaus   \n",
       "298  DEHHALKAJ00011bCBL       1.0  Wohnhaus   \n",
       "299  DEHHALKAJ000119bBL       4.0  Wohnhaus   \n",
       "300  DEHHALKAJ000138fBL       4.0  Wohnhaus   \n",
       "301  DEHHALKAJ00012tWBL       4.0  Wohnhaus   \n",
       "\n",
       "                                              geometry  grundflache  \n",
       "0    MULTIPOLYGON (((10.06312 53.53584, 10.06301 53...    54.781575  \n",
       "1    MULTIPOLYGON (((10.06502 53.53566, 10.06501 53...    84.620637  \n",
       "2    MULTIPOLYGON (((10.06284 53.53575, 10.06273 53...   132.952185  \n",
       "3    MULTIPOLYGON (((10.06473 53.53482, 10.06473 53...    90.722587  \n",
       "4    MULTIPOLYGON (((10.06335 53.53560, 10.06339 53...    90.082629  \n",
       "..                                                 ...          ...  \n",
       "297  MULTIPOLYGON (((10.04608 53.53318, 10.04594 53...   385.360233  \n",
       "298  MULTIPOLYGON (((10.05893 53.54550, 10.05899 53...    86.175483  \n",
       "299  MULTIPOLYGON (((10.04797 53.53245, 10.04784 53...   404.605389  \n",
       "300  MULTIPOLYGON (((10.03585 53.53479, 10.03565 53...   537.871834  \n",
       "301  MULTIPOLYGON (((10.03745 53.53403, 10.03723 53...   527.934377  \n",
       "\n",
       "[302 rows x 5 columns]"
      ]
     },
     "execution_count": 112,
     "metadata": {},
     "output_type": "execute_result"
    }
   ],
   "source": [
    "wohngebaude_rothenburgsort"
   ]
  },
  {
   "cell_type": "code",
   "execution_count": 113,
   "metadata": {},
   "outputs": [],
   "source": [
    "# Brutto-Grundfläche berechnen\n",
    "wohngebaude_rothenburgsort['brutto_grundflache'] = wohngebaude_rothenburgsort['grundflache'] * wohngebaude_rothenburgsort['anzahlgs']"
   ]
  },
  {
   "cell_type": "code",
   "execution_count": 114,
   "metadata": {},
   "outputs": [
    {
     "data": {
      "text/html": [
       "<div>\n",
       "<style scoped>\n",
       "    .dataframe tbody tr th:only-of-type {\n",
       "        vertical-align: middle;\n",
       "    }\n",
       "\n",
       "    .dataframe tbody tr th {\n",
       "        vertical-align: top;\n",
       "    }\n",
       "\n",
       "    .dataframe thead th {\n",
       "        text-align: right;\n",
       "    }\n",
       "</style>\n",
       "<table border=\"1\" class=\"dataframe\">\n",
       "  <thead>\n",
       "    <tr style=\"text-align: right;\">\n",
       "      <th></th>\n",
       "      <th>oid</th>\n",
       "      <th>anzahlgs</th>\n",
       "      <th>funktion</th>\n",
       "      <th>geometry</th>\n",
       "      <th>grundflache</th>\n",
       "      <th>brutto_grundflache</th>\n",
       "    </tr>\n",
       "  </thead>\n",
       "  <tbody>\n",
       "    <tr>\n",
       "      <th>0</th>\n",
       "      <td>DEHHALKAJ0000xnfBL</td>\n",
       "      <td>1.0</td>\n",
       "      <td>Wohnhaus</td>\n",
       "      <td>MULTIPOLYGON (((10.06312 53.53584, 10.06301 53...</td>\n",
       "      <td>54.781575</td>\n",
       "      <td>54.781575</td>\n",
       "    </tr>\n",
       "    <tr>\n",
       "      <th>1</th>\n",
       "      <td>DEHHALKAJ0000xhIBL</td>\n",
       "      <td>1.0</td>\n",
       "      <td>Wohnhaus</td>\n",
       "      <td>MULTIPOLYGON (((10.06502 53.53566, 10.06501 53...</td>\n",
       "      <td>84.620637</td>\n",
       "      <td>84.620637</td>\n",
       "    </tr>\n",
       "    <tr>\n",
       "      <th>2</th>\n",
       "      <td>DEHHALKAJ0000xgsBL</td>\n",
       "      <td>1.0</td>\n",
       "      <td>Wohnhaus</td>\n",
       "      <td>MULTIPOLYGON (((10.06284 53.53575, 10.06273 53...</td>\n",
       "      <td>132.952185</td>\n",
       "      <td>132.952185</td>\n",
       "    </tr>\n",
       "    <tr>\n",
       "      <th>3</th>\n",
       "      <td>DEHHALKAJ0000xizBL</td>\n",
       "      <td>1.0</td>\n",
       "      <td>Wohnhaus</td>\n",
       "      <td>MULTIPOLYGON (((10.06473 53.53482, 10.06473 53...</td>\n",
       "      <td>90.722587</td>\n",
       "      <td>90.722587</td>\n",
       "    </tr>\n",
       "    <tr>\n",
       "      <th>4</th>\n",
       "      <td>DEHHALKAJ0000xhTBL</td>\n",
       "      <td>1.0</td>\n",
       "      <td>Wohnhaus</td>\n",
       "      <td>MULTIPOLYGON (((10.06335 53.53560, 10.06339 53...</td>\n",
       "      <td>90.082629</td>\n",
       "      <td>90.082629</td>\n",
       "    </tr>\n",
       "    <tr>\n",
       "      <th>...</th>\n",
       "      <td>...</td>\n",
       "      <td>...</td>\n",
       "      <td>...</td>\n",
       "      <td>...</td>\n",
       "      <td>...</td>\n",
       "      <td>...</td>\n",
       "    </tr>\n",
       "    <tr>\n",
       "      <th>297</th>\n",
       "      <td>DEHHALKAJ00013M4BL</td>\n",
       "      <td>4.0</td>\n",
       "      <td>Wohnhaus</td>\n",
       "      <td>MULTIPOLYGON (((10.04608 53.53318, 10.04594 53...</td>\n",
       "      <td>385.360233</td>\n",
       "      <td>1541.440930</td>\n",
       "    </tr>\n",
       "    <tr>\n",
       "      <th>298</th>\n",
       "      <td>DEHHALKAJ00011bCBL</td>\n",
       "      <td>1.0</td>\n",
       "      <td>Wohnhaus</td>\n",
       "      <td>MULTIPOLYGON (((10.05893 53.54550, 10.05899 53...</td>\n",
       "      <td>86.175483</td>\n",
       "      <td>86.175483</td>\n",
       "    </tr>\n",
       "    <tr>\n",
       "      <th>299</th>\n",
       "      <td>DEHHALKAJ000119bBL</td>\n",
       "      <td>4.0</td>\n",
       "      <td>Wohnhaus</td>\n",
       "      <td>MULTIPOLYGON (((10.04797 53.53245, 10.04784 53...</td>\n",
       "      <td>404.605389</td>\n",
       "      <td>1618.421556</td>\n",
       "    </tr>\n",
       "    <tr>\n",
       "      <th>300</th>\n",
       "      <td>DEHHALKAJ000138fBL</td>\n",
       "      <td>4.0</td>\n",
       "      <td>Wohnhaus</td>\n",
       "      <td>MULTIPOLYGON (((10.03585 53.53479, 10.03565 53...</td>\n",
       "      <td>537.871834</td>\n",
       "      <td>2151.487335</td>\n",
       "    </tr>\n",
       "    <tr>\n",
       "      <th>301</th>\n",
       "      <td>DEHHALKAJ00012tWBL</td>\n",
       "      <td>4.0</td>\n",
       "      <td>Wohnhaus</td>\n",
       "      <td>MULTIPOLYGON (((10.03745 53.53403, 10.03723 53...</td>\n",
       "      <td>527.934377</td>\n",
       "      <td>2111.737509</td>\n",
       "    </tr>\n",
       "  </tbody>\n",
       "</table>\n",
       "<p>302 rows × 6 columns</p>\n",
       "</div>"
      ],
      "text/plain": [
       "                    oid  anzahlgs  funktion  \\\n",
       "0    DEHHALKAJ0000xnfBL       1.0  Wohnhaus   \n",
       "1    DEHHALKAJ0000xhIBL       1.0  Wohnhaus   \n",
       "2    DEHHALKAJ0000xgsBL       1.0  Wohnhaus   \n",
       "3    DEHHALKAJ0000xizBL       1.0  Wohnhaus   \n",
       "4    DEHHALKAJ0000xhTBL       1.0  Wohnhaus   \n",
       "..                  ...       ...       ...   \n",
       "297  DEHHALKAJ00013M4BL       4.0  Wohnhaus   \n",
       "298  DEHHALKAJ00011bCBL       1.0  Wohnhaus   \n",
       "299  DEHHALKAJ000119bBL       4.0  Wohnhaus   \n",
       "300  DEHHALKAJ000138fBL       4.0  Wohnhaus   \n",
       "301  DEHHALKAJ00012tWBL       4.0  Wohnhaus   \n",
       "\n",
       "                                              geometry  grundflache  \\\n",
       "0    MULTIPOLYGON (((10.06312 53.53584, 10.06301 53...    54.781575   \n",
       "1    MULTIPOLYGON (((10.06502 53.53566, 10.06501 53...    84.620637   \n",
       "2    MULTIPOLYGON (((10.06284 53.53575, 10.06273 53...   132.952185   \n",
       "3    MULTIPOLYGON (((10.06473 53.53482, 10.06473 53...    90.722587   \n",
       "4    MULTIPOLYGON (((10.06335 53.53560, 10.06339 53...    90.082629   \n",
       "..                                                 ...          ...   \n",
       "297  MULTIPOLYGON (((10.04608 53.53318, 10.04594 53...   385.360233   \n",
       "298  MULTIPOLYGON (((10.05893 53.54550, 10.05899 53...    86.175483   \n",
       "299  MULTIPOLYGON (((10.04797 53.53245, 10.04784 53...   404.605389   \n",
       "300  MULTIPOLYGON (((10.03585 53.53479, 10.03565 53...   537.871834   \n",
       "301  MULTIPOLYGON (((10.03745 53.53403, 10.03723 53...   527.934377   \n",
       "\n",
       "     brutto_grundflache  \n",
       "0             54.781575  \n",
       "1             84.620637  \n",
       "2            132.952185  \n",
       "3             90.722587  \n",
       "4             90.082629  \n",
       "..                  ...  \n",
       "297         1541.440930  \n",
       "298           86.175483  \n",
       "299         1618.421556  \n",
       "300         2151.487335  \n",
       "301         2111.737509  \n",
       "\n",
       "[302 rows x 6 columns]"
      ]
     },
     "execution_count": 114,
     "metadata": {},
     "output_type": "execute_result"
    }
   ],
   "source": [
    "wohngebaude_rothenburgsort"
   ]
  },
  {
   "cell_type": "code",
   "execution_count": 115,
   "metadata": {},
   "outputs": [],
   "source": [
    "durchschnittliche_wohnungsgroesse = 61.8 #m2\n",
    "\n",
    "# Anzahl an Wohnungen berechnen und abrunden\n",
    "wohngebaude_rothenburgsort['anzahl_wohnungen'] = np.floor(wohngebaude_rothenburgsort['brutto_grundflache'] / durchschnittliche_wohnungsgroesse)\n"
   ]
  },
  {
   "cell_type": "code",
   "execution_count": 116,
   "metadata": {},
   "outputs": [
    {
     "data": {
      "text/plain": [
       "7576.0"
      ]
     },
     "execution_count": 116,
     "metadata": {},
     "output_type": "execute_result"
    }
   ],
   "source": [
    "# Gesamte Wohnugnen berechnen\n",
    "wohngebaude_rothenburgsort['anzahl_wohnungen'].sum()"
   ]
  },
  {
   "cell_type": "code",
   "execution_count": 74,
   "metadata": {},
   "outputs": [
    {
     "data": {
      "text/plain": [
       "2319.0"
      ]
     },
     "execution_count": 74,
     "metadata": {},
     "output_type": "execute_result"
    }
   ],
   "source": [
    "# Gebäude, deren Funktion kein reines Wohnhaus ist\n",
    "wohngebaude_rothenburgsort[~wohngebaude_rothenburgsort['funktion'].str.contains('Wohnhaus')]['anzahl_wohnungen'].sum()"
   ]
  },
  {
   "cell_type": "code",
   "execution_count": 75,
   "metadata": {},
   "outputs": [
    {
     "name": "stderr",
     "output_type": "stream",
     "text": [
      "/Users/hsadmin/.conda/envs/geo-env/lib/python3.11/site-packages/IPython/core/interactiveshell.py:3382: FutureWarning: The `op` parameter is deprecated and will be removed in a future release. Please use the `predicate` parameter instead.\n",
      "  if await self.run_code(code, result, async_=asy):\n"
     ]
    },
    {
     "ename": "ValueError",
     "evalue": "'index_left' and 'index_right' cannot be names in the frames being joined",
     "output_type": "error",
     "traceback": [
      "\u001b[0;31m---------------------------------------------------------------------------\u001b[0m",
      "\u001b[0;31mValueError\u001b[0m                                Traceback (most recent call last)",
      "Cell \u001b[0;32mIn[75], line 2\u001b[0m\n\u001b[1;32m      1\u001b[0m \u001b[39m# Wohngebäude den unsanierten Gebäuden zuordnen\u001b[39;00m\n\u001b[0;32m----> 2\u001b[0m unsaniert_rothenburgsort \u001b[39m=\u001b[39m gpd\u001b[39m.\u001b[39msjoin(unsaniert_rothenburgsort, wohngebaude_rothenburgsort, how\u001b[39m=\u001b[39m\u001b[39m'\u001b[39m\u001b[39minner\u001b[39m\u001b[39m'\u001b[39m, op\u001b[39m=\u001b[39m\u001b[39m'\u001b[39m\u001b[39mintersects\u001b[39m\u001b[39m'\u001b[39m)\n",
      "File \u001b[0;32m~/.conda/envs/geo-env/lib/python3.11/site-packages/geopandas/tools/sjoin.py:122\u001b[0m, in \u001b[0;36msjoin\u001b[0;34m(left_df, right_df, how, predicate, lsuffix, rsuffix, **kwargs)\u001b[0m\n\u001b[1;32m    119\u001b[0m     first \u001b[39m=\u001b[39m \u001b[39mnext\u001b[39m(\u001b[39miter\u001b[39m(kwargs\u001b[39m.\u001b[39mkeys()))\n\u001b[1;32m    120\u001b[0m     \u001b[39mraise\u001b[39;00m \u001b[39mTypeError\u001b[39;00m(\u001b[39mf\u001b[39m\u001b[39m\"\u001b[39m\u001b[39msjoin() got an unexpected keyword argument \u001b[39m\u001b[39m'\u001b[39m\u001b[39m{\u001b[39;00mfirst\u001b[39m}\u001b[39;00m\u001b[39m'\u001b[39m\u001b[39m\"\u001b[39m)\n\u001b[0;32m--> 122\u001b[0m _basic_checks(left_df, right_df, how, lsuffix, rsuffix)\n\u001b[1;32m    124\u001b[0m indices \u001b[39m=\u001b[39m _geom_predicate_query(left_df, right_df, predicate)\n\u001b[1;32m    126\u001b[0m joined \u001b[39m=\u001b[39m _frame_join(indices, left_df, right_df, how, lsuffix, rsuffix)\n",
      "File \u001b[0;32m~/.conda/envs/geo-env/lib/python3.11/site-packages/geopandas/tools/sjoin.py:175\u001b[0m, in \u001b[0;36m_basic_checks\u001b[0;34m(left_df, right_df, how, lsuffix, rsuffix)\u001b[0m\n\u001b[1;32m    171\u001b[0m \u001b[39m# due to GH 352\u001b[39;00m\n\u001b[1;32m    172\u001b[0m \u001b[39mif\u001b[39;00m \u001b[39many\u001b[39m(left_df\u001b[39m.\u001b[39mcolumns\u001b[39m.\u001b[39misin([index_left, index_right])) \u001b[39mor\u001b[39;00m \u001b[39many\u001b[39m(\n\u001b[1;32m    173\u001b[0m     right_df\u001b[39m.\u001b[39mcolumns\u001b[39m.\u001b[39misin([index_left, index_right])\n\u001b[1;32m    174\u001b[0m ):\n\u001b[0;32m--> 175\u001b[0m     \u001b[39mraise\u001b[39;00m \u001b[39mValueError\u001b[39;00m(\n\u001b[1;32m    176\u001b[0m         \u001b[39m\"\u001b[39m\u001b[39m'\u001b[39m\u001b[39m{0}\u001b[39;00m\u001b[39m'\u001b[39m\u001b[39m and \u001b[39m\u001b[39m'\u001b[39m\u001b[39m{1}\u001b[39;00m\u001b[39m'\u001b[39m\u001b[39m cannot be names in the frames being\u001b[39m\u001b[39m\"\u001b[39m\n\u001b[1;32m    177\u001b[0m         \u001b[39m\"\u001b[39m\u001b[39m joined\u001b[39m\u001b[39m\"\u001b[39m\u001b[39m.\u001b[39mformat(index_left, index_right)\n\u001b[1;32m    178\u001b[0m     )\n",
      "\u001b[0;31mValueError\u001b[0m: 'index_left' and 'index_right' cannot be names in the frames being joined"
     ]
    }
   ],
   "source": [
    "# Wohngebäude den unsanierten Gebäuden zuordnen\n",
    "unsaniert_rothenburgsort = gpd.sjoin(unsaniert_rothenburgsort, wohngebaude_rothenburgsort, how='inner', op='intersects')"
   ]
  },
  {
   "cell_type": "code",
   "execution_count": 82,
   "metadata": {},
   "outputs": [
    {
     "data": {
      "image/png": "[encoded data removed]",
      "text/plain": [
       "<Figure size 432x288 with 1 Axes>"
      ]
     },
     "metadata": {
      "needs_background": "light"
     },
     "output_type": "display_data"
    }
   ],
   "source": [
    "unsaniert_wohnen = unsaniert_rothenburgsort[unsaniert_rothenburgsort[\"beheizte_wohnflaeche\"] > 0].plot()"
   ]
  },
  {
   "cell_type": "code",
   "execution_count": 100,
   "metadata": {},
   "outputs": [],
   "source": [
    "# Drop columns index_right\n",
    "unsaniert_rothenburgsort_spez = unsaniert_rothenburgsort_spez.drop(columns=['index_right'])\n",
    "saniert_rothenburgsort_spez = saniert_rothenburgsort_spez.drop(columns=['index_right'])"
   ]
  },
  {
   "cell_type": "code",
   "execution_count": 96,
   "metadata": {},
   "outputs": [
    {
     "data": {
      "text/plain": [
       "<AxesSubplot: >"
      ]
     },
     "execution_count": 96,
     "metadata": {},
     "output_type": "execute_result"
    },
    {
     "data": {
      "image/png": "[encoded data removed]",
      "text/plain": [
       "<Figure size 1440x1440 with 1 Axes>"
      ]
     },
     "metadata": {
      "needs_background": "light"
     },
     "output_type": "display_data"
    }
   ],
   "source": [
    "# Unsaniert Wohnen in blau und wohngebaude_rothenburgsort in schwarz plotten, figsize = (20,20)\n",
    "ax = unsaniert_rothenburgsort_spez[unsaniert_rothenburgsort_spez[\"beheizte_wohnflaeche\"] > 0].plot(color='grey', figsize=(20,20))\n",
    "wohngebaude_rothenburgsort.plot(ax=ax, color=(0,0,0,0.6))\n"
   ]
  },
  {
   "cell_type": "code",
   "execution_count": 126,
   "metadata": {},
   "outputs": [
    {
     "name": "stderr",
     "output_type": "stream",
     "text": [
      "/Users/hsadmin/.conda/envs/geo-env/lib/python3.11/site-packages/IPython/core/interactiveshell.py:3382: FutureWarning: The `op` parameter is deprecated and will be removed in a future release. Please use the `predicate` parameter instead.\n",
      "  if await self.run_code(code, result, async_=asy):\n",
      "/Users/hsadmin/.conda/envs/geo-env/lib/python3.11/site-packages/IPython/core/interactiveshell.py:3382: FutureWarning: The `op` parameter is deprecated and will be removed in a future release. Please use the `predicate` parameter instead.\n",
      "  if await self.run_code(code, result, async_=asy):\n"
     ]
    }
   ],
   "source": [
    "# Join unsaniert_rothenburgsort_spez and wohngebaude_rothenburgsort\n",
    "wohngebeude_rothenburgsort_waerme = gpd.sjoin(unsaniert_rothenburgsort_spez, wohngebaude_rothenburgsort, how='right', op='intersects')\n",
    "wohngebeude_rothenburgsort_waerme = wohngebeude_rothenburgsort_waerme[['anzahlgs', 'funktion', 'geometry', 'grundflache', 'brutto_grundflache','anzahl_wohnungen','spez_waermebedarf_unsaniert']]\n",
    "\n",
    "wohngebeude_rothenburgsort_waerme = gpd.sjoin(saniert_rothenburgsort_spez, wohngebeude_rothenburgsort_waerme, how='right', op='intersects')\n",
    "wohngebeude_rothenburgsort_waerme = wohngebeude_rothenburgsort_waerme[['anzahlgs', 'funktion', 'geometry', 'grundflache', 'brutto_grundflache','anzahl_wohnungen','spez_waermebedarf_unsaniert', 'spez_waermebedarf_saniert']]\n"
   ]
  },
  {
   "cell_type": "code",
   "execution_count": 127,
   "metadata": {},
   "outputs": [
    {
     "data": {
      "text/html": [
       "<div>\n",
       "<style scoped>\n",
       "    .dataframe tbody tr th:only-of-type {\n",
       "        vertical-align: middle;\n",
       "    }\n",
       "\n",
       "    .dataframe tbody tr th {\n",
       "        vertical-align: top;\n",
       "    }\n",
       "\n",
       "    .dataframe thead th {\n",
       "        text-align: right;\n",
       "    }\n",
       "</style>\n",
       "<table border=\"1\" class=\"dataframe\">\n",
       "  <thead>\n",
       "    <tr style=\"text-align: right;\">\n",
       "      <th></th>\n",
       "      <th>anzahlgs</th>\n",
       "      <th>funktion</th>\n",
       "      <th>geometry</th>\n",
       "      <th>grundflache</th>\n",
       "      <th>brutto_grundflache</th>\n",
       "      <th>anzahl_wohnungen</th>\n",
       "      <th>spez_waermebedarf_unsaniert</th>\n",
       "      <th>spez_waermebedarf_saniert</th>\n",
       "    </tr>\n",
       "  </thead>\n",
       "  <tbody>\n",
       "    <tr>\n",
       "      <th>0</th>\n",
       "      <td>1.0</td>\n",
       "      <td>Wohnhaus</td>\n",
       "      <td>MULTIPOLYGON (((10.06312 53.53584, 10.06301 53...</td>\n",
       "      <td>54.781575</td>\n",
       "      <td>54.781575</td>\n",
       "      <td>0.0</td>\n",
       "      <td>164.0</td>\n",
       "      <td>115.0</td>\n",
       "    </tr>\n",
       "    <tr>\n",
       "      <th>1</th>\n",
       "      <td>1.0</td>\n",
       "      <td>Wohnhaus</td>\n",
       "      <td>MULTIPOLYGON (((10.06502 53.53566, 10.06501 53...</td>\n",
       "      <td>84.620637</td>\n",
       "      <td>84.620637</td>\n",
       "      <td>1.0</td>\n",
       "      <td>163.0</td>\n",
       "      <td>114.0</td>\n",
       "    </tr>\n",
       "    <tr>\n",
       "      <th>2</th>\n",
       "      <td>1.0</td>\n",
       "      <td>Wohnhaus</td>\n",
       "      <td>MULTIPOLYGON (((10.06284 53.53575, 10.06273 53...</td>\n",
       "      <td>132.952185</td>\n",
       "      <td>132.952185</td>\n",
       "      <td>2.0</td>\n",
       "      <td>164.0</td>\n",
       "      <td>115.0</td>\n",
       "    </tr>\n",
       "    <tr>\n",
       "      <th>3</th>\n",
       "      <td>1.0</td>\n",
       "      <td>Wohnhaus</td>\n",
       "      <td>MULTIPOLYGON (((10.06473 53.53482, 10.06473 53...</td>\n",
       "      <td>90.722587</td>\n",
       "      <td>90.722587</td>\n",
       "      <td>1.0</td>\n",
       "      <td>164.0</td>\n",
       "      <td>115.0</td>\n",
       "    </tr>\n",
       "    <tr>\n",
       "      <th>4</th>\n",
       "      <td>1.0</td>\n",
       "      <td>Wohnhaus</td>\n",
       "      <td>MULTIPOLYGON (((10.06335 53.53560, 10.06339 53...</td>\n",
       "      <td>90.082629</td>\n",
       "      <td>90.082629</td>\n",
       "      <td>1.0</td>\n",
       "      <td>164.0</td>\n",
       "      <td>115.0</td>\n",
       "    </tr>\n",
       "    <tr>\n",
       "      <th>...</th>\n",
       "      <td>...</td>\n",
       "      <td>...</td>\n",
       "      <td>...</td>\n",
       "      <td>...</td>\n",
       "      <td>...</td>\n",
       "      <td>...</td>\n",
       "      <td>...</td>\n",
       "      <td>...</td>\n",
       "    </tr>\n",
       "    <tr>\n",
       "      <th>297</th>\n",
       "      <td>4.0</td>\n",
       "      <td>Wohnhaus</td>\n",
       "      <td>MULTIPOLYGON (((10.04608 53.53318, 10.04594 53...</td>\n",
       "      <td>385.360233</td>\n",
       "      <td>1541.440930</td>\n",
       "      <td>24.0</td>\n",
       "      <td>165.0</td>\n",
       "      <td>103.0</td>\n",
       "    </tr>\n",
       "    <tr>\n",
       "      <th>298</th>\n",
       "      <td>1.0</td>\n",
       "      <td>Wohnhaus</td>\n",
       "      <td>MULTIPOLYGON (((10.05893 53.54550, 10.05899 53...</td>\n",
       "      <td>86.175483</td>\n",
       "      <td>86.175483</td>\n",
       "      <td>1.0</td>\n",
       "      <td>NaN</td>\n",
       "      <td>NaN</td>\n",
       "    </tr>\n",
       "    <tr>\n",
       "      <th>299</th>\n",
       "      <td>4.0</td>\n",
       "      <td>Wohnhaus</td>\n",
       "      <td>MULTIPOLYGON (((10.04797 53.53245, 10.04784 53...</td>\n",
       "      <td>404.605389</td>\n",
       "      <td>1618.421556</td>\n",
       "      <td>26.0</td>\n",
       "      <td>165.0</td>\n",
       "      <td>103.0</td>\n",
       "    </tr>\n",
       "    <tr>\n",
       "      <th>300</th>\n",
       "      <td>4.0</td>\n",
       "      <td>Wohnhaus</td>\n",
       "      <td>MULTIPOLYGON (((10.03585 53.53479, 10.03565 53...</td>\n",
       "      <td>537.871834</td>\n",
       "      <td>2151.487335</td>\n",
       "      <td>34.0</td>\n",
       "      <td>140.0</td>\n",
       "      <td>90.0</td>\n",
       "    </tr>\n",
       "    <tr>\n",
       "      <th>301</th>\n",
       "      <td>4.0</td>\n",
       "      <td>Wohnhaus</td>\n",
       "      <td>MULTIPOLYGON (((10.03745 53.53403, 10.03723 53...</td>\n",
       "      <td>527.934377</td>\n",
       "      <td>2111.737509</td>\n",
       "      <td>34.0</td>\n",
       "      <td>140.0</td>\n",
       "      <td>90.0</td>\n",
       "    </tr>\n",
       "  </tbody>\n",
       "</table>\n",
       "<p>392 rows × 8 columns</p>\n",
       "</div>"
      ],
      "text/plain": [
       "     anzahlgs  funktion                                           geometry  \\\n",
       "0         1.0  Wohnhaus  MULTIPOLYGON (((10.06312 53.53584, 10.06301 53...   \n",
       "1         1.0  Wohnhaus  MULTIPOLYGON (((10.06502 53.53566, 10.06501 53...   \n",
       "2         1.0  Wohnhaus  MULTIPOLYGON (((10.06284 53.53575, 10.06273 53...   \n",
       "3         1.0  Wohnhaus  MULTIPOLYGON (((10.06473 53.53482, 10.06473 53...   \n",
       "4         1.0  Wohnhaus  MULTIPOLYGON (((10.06335 53.53560, 10.06339 53...   \n",
       "..        ...       ...                                                ...   \n",
       "297       4.0  Wohnhaus  MULTIPOLYGON (((10.04608 53.53318, 10.04594 53...   \n",
       "298       1.0  Wohnhaus  MULTIPOLYGON (((10.05893 53.54550, 10.05899 53...   \n",
       "299       4.0  Wohnhaus  MULTIPOLYGON (((10.04797 53.53245, 10.04784 53...   \n",
       "300       4.0  Wohnhaus  MULTIPOLYGON (((10.03585 53.53479, 10.03565 53...   \n",
       "301       4.0  Wohnhaus  MULTIPOLYGON (((10.03745 53.53403, 10.03723 53...   \n",
       "\n",
       "     grundflache  brutto_grundflache  anzahl_wohnungen  \\\n",
       "0      54.781575           54.781575               0.0   \n",
       "1      84.620637           84.620637               1.0   \n",
       "2     132.952185          132.952185               2.0   \n",
       "3      90.722587           90.722587               1.0   \n",
       "4      90.082629           90.082629               1.0   \n",
       "..           ...                 ...               ...   \n",
       "297   385.360233         1541.440930              24.0   \n",
       "298    86.175483           86.175483               1.0   \n",
       "299   404.605389         1618.421556              26.0   \n",
       "300   537.871834         2151.487335              34.0   \n",
       "301   527.934377         2111.737509              34.0   \n",
       "\n",
       "     spez_waermebedarf_unsaniert  spez_waermebedarf_saniert  \n",
       "0                          164.0                      115.0  \n",
       "1                          163.0                      114.0  \n",
       "2                          164.0                      115.0  \n",
       "3                          164.0                      115.0  \n",
       "4                          164.0                      115.0  \n",
       "..                           ...                        ...  \n",
       "297                        165.0                      103.0  \n",
       "298                          NaN                        NaN  \n",
       "299                        165.0                      103.0  \n",
       "300                        140.0                       90.0  \n",
       "301                        140.0                       90.0  \n",
       "\n",
       "[392 rows x 8 columns]"
      ]
     },
     "execution_count": 127,
     "metadata": {},
     "output_type": "execute_result"
    }
   ],
   "source": [
    "wohngebeude_rothenburgsort_waerme"
   ]
  },
  {
   "cell_type": "code",
   "execution_count": 128,
   "metadata": {},
   "outputs": [
    {
     "data": {
      "text/plain": [
       "<AxesSubplot: >"
      ]
     },
     "execution_count": 128,
     "metadata": {},
     "output_type": "execute_result"
    },
    {
     "data": {
      "image/png": "[encoded data removed]",
      "text/plain": [
       "<Figure size 432x288 with 1 Axes>"
      ]
     },
     "metadata": {
      "needs_background": "light"
     },
     "output_type": "display_data"
    }
   ],
   "source": [
    "wohngebeude_rothenburgsort_waerme.plot()"
   ]
  },
  {
   "cell_type": "code",
   "execution_count": 129,
   "metadata": {},
   "outputs": [],
   "source": [
    "# Spalten umbenennen\n",
    "wohngebeude_rothenburgsort_waerme = wohngebeude_rothenburgsort_waerme.rename(columns={'spez_waermebedarf_unsaniert': 'wärmebedarf_unsaniert', 'spez_waermebedarf_saniert': 'wärmebedarf_saniert'})\n"
   ]
  },
  {
   "cell_type": "code",
   "execution_count": 130,
   "metadata": {},
   "outputs": [
    {
     "data": {
      "text/html": [
       "<div>\n",
       "<style scoped>\n",
       "    .dataframe tbody tr th:only-of-type {\n",
       "        vertical-align: middle;\n",
       "    }\n",
       "\n",
       "    .dataframe tbody tr th {\n",
       "        vertical-align: top;\n",
       "    }\n",
       "\n",
       "    .dataframe thead th {\n",
       "        text-align: right;\n",
       "    }\n",
       "</style>\n",
       "<table border=\"1\" class=\"dataframe\">\n",
       "  <thead>\n",
       "    <tr style=\"text-align: right;\">\n",
       "      <th></th>\n",
       "      <th>anzahlgs</th>\n",
       "      <th>funktion</th>\n",
       "      <th>geometry</th>\n",
       "      <th>grundflache</th>\n",
       "      <th>brutto_grundflache</th>\n",
       "      <th>anzahl_wohnungen</th>\n",
       "      <th>wärmebedarf_unsaniert</th>\n",
       "      <th>wärmebedarf_saniert</th>\n",
       "    </tr>\n",
       "  </thead>\n",
       "  <tbody>\n",
       "    <tr>\n",
       "      <th>0</th>\n",
       "      <td>1.0</td>\n",
       "      <td>Wohnhaus</td>\n",
       "      <td>MULTIPOLYGON (((10.06312 53.53584, 10.06301 53...</td>\n",
       "      <td>54.781575</td>\n",
       "      <td>54.781575</td>\n",
       "      <td>0.0</td>\n",
       "      <td>164.0</td>\n",
       "      <td>115.0</td>\n",
       "    </tr>\n",
       "    <tr>\n",
       "      <th>1</th>\n",
       "      <td>1.0</td>\n",
       "      <td>Wohnhaus</td>\n",
       "      <td>MULTIPOLYGON (((10.06502 53.53566, 10.06501 53...</td>\n",
       "      <td>84.620637</td>\n",
       "      <td>84.620637</td>\n",
       "      <td>1.0</td>\n",
       "      <td>163.0</td>\n",
       "      <td>114.0</td>\n",
       "    </tr>\n",
       "    <tr>\n",
       "      <th>2</th>\n",
       "      <td>1.0</td>\n",
       "      <td>Wohnhaus</td>\n",
       "      <td>MULTIPOLYGON (((10.06284 53.53575, 10.06273 53...</td>\n",
       "      <td>132.952185</td>\n",
       "      <td>132.952185</td>\n",
       "      <td>2.0</td>\n",
       "      <td>164.0</td>\n",
       "      <td>115.0</td>\n",
       "    </tr>\n",
       "    <tr>\n",
       "      <th>3</th>\n",
       "      <td>1.0</td>\n",
       "      <td>Wohnhaus</td>\n",
       "      <td>MULTIPOLYGON (((10.06473 53.53482, 10.06473 53...</td>\n",
       "      <td>90.722587</td>\n",
       "      <td>90.722587</td>\n",
       "      <td>1.0</td>\n",
       "      <td>164.0</td>\n",
       "      <td>115.0</td>\n",
       "    </tr>\n",
       "    <tr>\n",
       "      <th>4</th>\n",
       "      <td>1.0</td>\n",
       "      <td>Wohnhaus</td>\n",
       "      <td>MULTIPOLYGON (((10.06335 53.53560, 10.06339 53...</td>\n",
       "      <td>90.082629</td>\n",
       "      <td>90.082629</td>\n",
       "      <td>1.0</td>\n",
       "      <td>164.0</td>\n",
       "      <td>115.0</td>\n",
       "    </tr>\n",
       "    <tr>\n",
       "      <th>...</th>\n",
       "      <td>...</td>\n",
       "      <td>...</td>\n",
       "      <td>...</td>\n",
       "      <td>...</td>\n",
       "      <td>...</td>\n",
       "      <td>...</td>\n",
       "      <td>...</td>\n",
       "      <td>...</td>\n",
       "    </tr>\n",
       "    <tr>\n",
       "      <th>297</th>\n",
       "      <td>4.0</td>\n",
       "      <td>Wohnhaus</td>\n",
       "      <td>MULTIPOLYGON (((10.04608 53.53318, 10.04594 53...</td>\n",
       "      <td>385.360233</td>\n",
       "      <td>1541.440930</td>\n",
       "      <td>24.0</td>\n",
       "      <td>165.0</td>\n",
       "      <td>103.0</td>\n",
       "    </tr>\n",
       "    <tr>\n",
       "      <th>298</th>\n",
       "      <td>1.0</td>\n",
       "      <td>Wohnhaus</td>\n",
       "      <td>MULTIPOLYGON (((10.05893 53.54550, 10.05899 53...</td>\n",
       "      <td>86.175483</td>\n",
       "      <td>86.175483</td>\n",
       "      <td>1.0</td>\n",
       "      <td>NaN</td>\n",
       "      <td>NaN</td>\n",
       "    </tr>\n",
       "    <tr>\n",
       "      <th>299</th>\n",
       "      <td>4.0</td>\n",
       "      <td>Wohnhaus</td>\n",
       "      <td>MULTIPOLYGON (((10.04797 53.53245, 10.04784 53...</td>\n",
       "      <td>404.605389</td>\n",
       "      <td>1618.421556</td>\n",
       "      <td>26.0</td>\n",
       "      <td>165.0</td>\n",
       "      <td>103.0</td>\n",
       "    </tr>\n",
       "    <tr>\n",
       "      <th>300</th>\n",
       "      <td>4.0</td>\n",
       "      <td>Wohnhaus</td>\n",
       "      <td>MULTIPOLYGON (((10.03585 53.53479, 10.03565 53...</td>\n",
       "      <td>537.871834</td>\n",
       "      <td>2151.487335</td>\n",
       "      <td>34.0</td>\n",
       "      <td>140.0</td>\n",
       "      <td>90.0</td>\n",
       "    </tr>\n",
       "    <tr>\n",
       "      <th>301</th>\n",
       "      <td>4.0</td>\n",
       "      <td>Wohnhaus</td>\n",
       "      <td>MULTIPOLYGON (((10.03745 53.53403, 10.03723 53...</td>\n",
       "      <td>527.934377</td>\n",
       "      <td>2111.737509</td>\n",
       "      <td>34.0</td>\n",
       "      <td>140.0</td>\n",
       "      <td>90.0</td>\n",
       "    </tr>\n",
       "  </tbody>\n",
       "</table>\n",
       "<p>392 rows × 8 columns</p>\n",
       "</div>"
      ],
      "text/plain": [
       "     anzahlgs  funktion                                           geometry  \\\n",
       "0         1.0  Wohnhaus  MULTIPOLYGON (((10.06312 53.53584, 10.06301 53...   \n",
       "1         1.0  Wohnhaus  MULTIPOLYGON (((10.06502 53.53566, 10.06501 53...   \n",
       "2         1.0  Wohnhaus  MULTIPOLYGON (((10.06284 53.53575, 10.06273 53...   \n",
       "3         1.0  Wohnhaus  MULTIPOLYGON (((10.06473 53.53482, 10.06473 53...   \n",
       "4         1.0  Wohnhaus  MULTIPOLYGON (((10.06335 53.53560, 10.06339 53...   \n",
       "..        ...       ...                                                ...   \n",
       "297       4.0  Wohnhaus  MULTIPOLYGON (((10.04608 53.53318, 10.04594 53...   \n",
       "298       1.0  Wohnhaus  MULTIPOLYGON (((10.05893 53.54550, 10.05899 53...   \n",
       "299       4.0  Wohnhaus  MULTIPOLYGON (((10.04797 53.53245, 10.04784 53...   \n",
       "300       4.0  Wohnhaus  MULTIPOLYGON (((10.03585 53.53479, 10.03565 53...   \n",
       "301       4.0  Wohnhaus  MULTIPOLYGON (((10.03745 53.53403, 10.03723 53...   \n",
       "\n",
       "     grundflache  brutto_grundflache  anzahl_wohnungen  wärmebedarf_unsaniert  \\\n",
       "0      54.781575           54.781575               0.0                  164.0   \n",
       "1      84.620637           84.620637               1.0                  163.0   \n",
       "2     132.952185          132.952185               2.0                  164.0   \n",
       "3      90.722587           90.722587               1.0                  164.0   \n",
       "4      90.082629           90.082629               1.0                  164.0   \n",
       "..           ...                 ...               ...                    ...   \n",
       "297   385.360233         1541.440930              24.0                  165.0   \n",
       "298    86.175483           86.175483               1.0                    NaN   \n",
       "299   404.605389         1618.421556              26.0                  165.0   \n",
       "300   537.871834         2151.487335              34.0                  140.0   \n",
       "301   527.934377         2111.737509              34.0                  140.0   \n",
       "\n",
       "     wärmebedarf_saniert  \n",
       "0                  115.0  \n",
       "1                  114.0  \n",
       "2                  115.0  \n",
       "3                  115.0  \n",
       "4                  115.0  \n",
       "..                   ...  \n",
       "297                103.0  \n",
       "298                  NaN  \n",
       "299                103.0  \n",
       "300                 90.0  \n",
       "301                 90.0  \n",
       "\n",
       "[392 rows x 8 columns]"
      ]
     },
     "execution_count": 130,
     "metadata": {},
     "output_type": "execute_result"
    }
   ],
   "source": [
    "wohngebeude_rothenburgsort_waerme"
   ]
  },
  {
   "cell_type": "code",
   "execution_count": 131,
   "metadata": {},
   "outputs": [],
   "source": [
    "# Speichern\n",
    "wohngebeude_rothenburgsort_waerme.to_file('data/wohngebeude_rothenburgsort_waerme.json', driver='GeoJSON')"
   ]
  },
  {
   "cell_type": "code",
   "execution_count": null,
   "metadata": {},
   "outputs": [],
   "source": []
  }
 ],
 "metadata": {
  "kernelspec": {
   "display_name": "mapping",
   "language": "python",
   "name": "python3"
  },
  "language_info": {
   "codemirror_mode": {
    "name": "ipython",
    "version": 3
   },
   "file_extension": ".py",
   "mimetype": "text/x-python",
   "name": "python",
   "nbconvert_exporter": "python",
   "pygments_lexer": "ipython3",
   "version": "3.11.0"
  },
  "orig_nbformat": 4,
  "vscode": {
   "interpreter": {
    "hash": "a9e9394fc31bfddbd836be2dd292d461e9eefccac34f1abf0a01a77015a53553"
   }
  }
 },
 "nbformat": 4,
 "nbformat_minor": 2
}
