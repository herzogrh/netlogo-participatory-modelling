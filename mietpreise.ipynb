{
 "cells": [
  {
   "cell_type": "code",
   "execution_count": 1,
   "metadata": {},
   "outputs": [
    {
     "name": "stdout",
     "output_type": "stream",
     "text": [
      "Estimated Mean: 50.0\n",
      "Estimated Standard Deviation: 29.65204437011204\n",
      "Estimated Variance: 879.2437353270932\n",
      "Generated Samples: [ 99.10736504  51.24435102  66.50257729  64.37296471  87.69283444\n",
      " -19.35061194  27.88177071  39.21539225  57.99776661  29.32147013\n",
      "  80.36303512  68.27036657 100.00026997  43.43750195  31.96328144\n",
      "  52.48824646  43.35167739  55.42410356  71.03072453  68.21948826\n",
      "  75.08604567  63.86293089  93.8277798   61.54858155  46.61423118\n",
      "  67.62443197  51.89202426  68.08502005  36.70773565  31.82529799\n",
      "  50.53727405  -6.69866342  30.35802386  36.44897782  27.39326537\n",
      "  51.12245081  12.92940807  -1.29195879  39.29314359  83.13957365\n",
      " 123.95056146 107.80848881  52.7408963   61.49024019  41.39798572\n",
      "  25.11765298   4.47402069 -12.3312521   50.24800564  69.01713233\n",
      "  61.76672584  56.56665245  27.49000392  61.06004201  -6.39250613\n",
      "  40.94583933  45.81016826  74.47847354  75.93523506  -2.14131294\n",
      " -30.25442512  29.41222723  19.16109171  67.30667989  15.96319866\n",
      "  39.891093    36.96379998  66.93890333  82.6571937   33.68272449\n",
      "  16.28760773  75.35893401  55.05789792  16.81092754  75.40574919\n",
      "  25.40170259   1.49998564  71.9303953   39.90286109  86.27289695\n",
      "  58.89702998  42.08147135  35.91617468  15.98613755  32.08603831\n",
      "  85.13727159 105.97941877  84.55951978  81.75658897  23.78462725\n",
      "  49.77378046  34.67202532  54.86804994  54.03332469  49.41690151\n",
      "  21.32868747  85.82713111  51.66254098  52.6210418   49.89279567]\n"
     ]
    }
   ],
   "source": [
    "import numpy as np\n",
    "from scipy.stats import norm\n",
    "\n",
    "def estimate_normal_distribution(mean, min_val, max_val, percentile25, percentile75):\n",
    "    # Calculate range\n",
    "    data_range = max_val - min_val\n",
    "\n",
    "    # Calculate interquartile range (IQR)\n",
    "    iqr = percentile75 - percentile25\n",
    "\n",
    "    # Estimate standard deviation (σ)\n",
    "    std_dev = iqr / (2 * norm.ppf(0.75))\n",
    "\n",
    "    # Calculate variance (σ^2)\n",
    "    variance = std_dev ** 2\n",
    "\n",
    "    # Create a normal distribution object\n",
    "    distribution = norm(loc=mean, scale=std_dev)\n",
    "\n",
    "    return distribution, variance\n",
    "\n",
    "# Example usage\n",
    "mean = 50\n",
    "min_val = 10\n",
    "max_val = 90\n",
    "percentile25 = 30\n",
    "percentile75 = 70\n",
    "\n",
    "distribution, variance = estimate_normal_distribution(mean, min_val, max_val, percentile25, percentile75)\n",
    "\n",
    "# Generate random samples from the estimated distribution\n",
    "samples = distribution.rvs(size=100)\n",
    "\n",
    "print(\"Estimated Mean:\", distribution.mean())\n",
    "print(\"Estimated Standard Deviation:\", distribution.std())\n",
    "print(\"Estimated Variance:\", variance)\n",
    "print(\"Generated Samples:\", samples)\n"
   ]
  },
  {
   "cell_type": "code",
   "execution_count": null,
   "metadata": {},
   "outputs": [],
   "source": []
  }
 ],
 "metadata": {
  "kernelspec": {
   "display_name": "geo-env",
   "language": "python",
   "name": "python3"
  },
  "language_info": {
   "codemirror_mode": {
    "name": "ipython",
    "version": 3
   },
   "file_extension": ".py",
   "mimetype": "text/x-python",
   "name": "python",
   "nbconvert_exporter": "python",
   "pygments_lexer": "ipython3",
   "version": "3.11.0"
  },
  "orig_nbformat": 4
 },
 "nbformat": 4,
 "nbformat_minor": 2
}
